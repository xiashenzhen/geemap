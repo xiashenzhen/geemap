{
  "nbformat": 4,
  "nbformat_minor": 0,
  "metadata": {
    "colab": {
      "provenance": [],
      "authorship_tag": "ABX9TyP5DiC1AaU1D/UoDv4vj9Qt",
      "include_colab_link": true
    },
    "kernelspec": {
      "name": "python3",
      "display_name": "Python 3"
    },
    "language_info": {
      "name": "python"
    },
    "widgets": {
      "application/vnd.jupyter.widget-state+json": {
        "cf2cce0313164368a792730bcc002cb8": {
          "model_module": "@jupyter-widgets/controls",
          "model_name": "VBoxModel",
          "model_module_version": "1.5.0",
          "state": {
            "_dom_classes": [],
            "_model_module": "@jupyter-widgets/controls",
            "_model_module_version": "1.5.0",
            "_model_name": "VBoxModel",
            "_view_count": null,
            "_view_module": "@jupyter-widgets/controls",
            "_view_module_version": "1.5.0",
            "_view_name": "VBoxView",
            "box_style": "",
            "children": [
              "IPY_MODEL_3c0f551bec9a4b19aacdccf91f11b1a8",
              "IPY_MODEL_10988636e3d845b9aa4399e174a8ebc7"
            ],
            "layout": "IPY_MODEL_24b4a7d6d382465fa93c61d29b0bd689"
          }
        },
        "3c0f551bec9a4b19aacdccf91f11b1a8": {
          "model_module": "jupyterlab-plotly",
          "model_name": "FigureModel",
          "model_module_version": "^5.15.0",
          "state": {
            "_config": {
              "plotlyServerURL": "https://plot.ly"
            },
            "_data": [
              {
                "arrangement": "snap",
                "link": {
                  "color": [
                    "#d3bf9b",
                    "#d3bf9b",
                    "#d3bf9b",
                    "#005e00",
                    "#005e00",
                    "#ffff00",
                    "#ffff00",
                    "#d3bf9b",
                    "#d3bf9b",
                    "#d3bf9b",
                    "#005e00",
                    "#005e00",
                    "#005e00",
                    "#ffff00",
                    "#ffff00",
                    "#d3bf9b",
                    "#d3bf9b",
                    "#d3bf9b"
                  ],
                  "customdata": [
                    "<b>4%</b> of <b>Barren or Impervious</b> became <b>Trees</b>",
                    "<b>10%</b> of <b>Barren or Impervious</b> became <b>Grass/Forb/Herb</b>",
                    "<b>86%</b> of <b>Barren or Impervious</b> remained <b>Barren or Impervious</b>",
                    "<b>94%</b> of <b>Trees</b> remained <b>Trees</b>",
                    "<b>6%</b> of <b>Trees</b> became <b>Grass/Forb/Herb</b>",
                    "<b>15%</b> of <b>Grass/Forb/Herb</b> became <b>Trees</b>",
                    "<b>85%</b> of <b>Grass/Forb/Herb</b> remained <b>Grass/Forb/Herb</b>",
                    "<b>11%</b> of <b>Barren or Impervious</b> became <b>Trees</b>",
                    "<b>16%</b> of <b>Barren or Impervious</b> became <b>Grass/Forb/Herb</b>",
                    "<b>74%</b> of <b>Barren or Impervious</b> remained <b>Barren or Impervious</b>",
                    "<b>93%</b> of <b>Trees</b> remained <b>Trees</b>",
                    "<b>5%</b> of <b>Trees</b> became <b>Grass/Forb/Herb</b>",
                    "<b>2%</b> of <b>Trees</b> became <b>Barren or Impervious</b>",
                    "<b>17%</b> of <b>Grass/Forb/Herb</b> became <b>Trees</b>",
                    "<b>83%</b> of <b>Grass/Forb/Herb</b> remained <b>Grass/Forb/Herb</b>",
                    "<b>13%</b> of <b>Barren or Impervious</b> became <b>Trees</b>",
                    "<b>22%</b> of <b>Barren or Impervious</b> became <b>Grass/Forb/Herb</b>",
                    "<b>65%</b> of <b>Barren or Impervious</b> remained <b>Barren or Impervious</b>"
                  ],
                  "hovertemplate": "%{customdata} <extra></extra>",
                  "line": {
                    "color": "#909090",
                    "width": 1
                  },
                  "source": [
                    0,
                    0,
                    0,
                    1,
                    1,
                    2,
                    2,
                    3,
                    3,
                    3,
                    4,
                    4,
                    4,
                    5,
                    5,
                    6,
                    6,
                    6
                  ],
                  "target": [
                    1,
                    2,
                    3,
                    4,
                    5,
                    4,
                    5,
                    4,
                    5,
                    6,
                    7,
                    8,
                    9,
                    7,
                    8,
                    7,
                    8,
                    9
                  ],
                  "value": [
                    16,
                    41,
                    340,
                    15,
                    1,
                    6,
                    35,
                    36,
                    54,
                    250,
                    53,
                    3,
                    1,
                    15,
                    75,
                    32,
                    55,
                    163
                  ]
                },
                "node": {
                  "color": [
                    "#d3bf9b",
                    "#005e00",
                    "#ffff00",
                    "#d3bf9b",
                    "#005e00",
                    "#ffff00",
                    "#d3bf9b",
                    "#005e00",
                    "#ffff00",
                    "#d3bf9b"
                  ],
                  "customdata": [
                    "1990",
                    "2000",
                    "2000",
                    "2000",
                    "2010",
                    "2010",
                    "2010",
                    "2020",
                    "2020",
                    "2020"
                  ],
                  "hovertemplate": "<b>%{customdata}</b><extra></extra>",
                  "label": [
                    "<span style='\n        color: #fff;\n        font-weight: 600;\n        letter-spacing: -1px;\n        text-shadow:\n            0 0 4px black,\n            -1px 1px 0 #76777a,\n            1px 1px 0 #76777a,\n            1px -1px 0 #76777a,\n            -1px -1px 0 #76777a;\n    '>Barren or Impervious</span>",
                    "<span style='\n        color: #fff;\n        font-weight: 600;\n        letter-spacing: -1px;\n        text-shadow:\n            0 0 4px black,\n            -1px 1px 0 #76777a,\n            1px 1px 0 #76777a,\n            1px -1px 0 #76777a,\n            -1px -1px 0 #76777a;\n    '>Trees</span>",
                    "<span style='\n        color: #fff;\n        font-weight: 600;\n        letter-spacing: -1px;\n        text-shadow:\n            0 0 4px black,\n            -1px 1px 0 #76777a,\n            1px 1px 0 #76777a,\n            1px -1px 0 #76777a,\n            -1px -1px 0 #76777a;\n    '>Grass/Forb/Herb</span>",
                    "<span style='\n        color: #fff;\n        font-weight: 600;\n        letter-spacing: -1px;\n        text-shadow:\n            0 0 4px black,\n            -1px 1px 0 #76777a,\n            1px 1px 0 #76777a,\n            1px -1px 0 #76777a,\n            -1px -1px 0 #76777a;\n    '>Barren or Impervious</span>",
                    "<span style='\n        color: #fff;\n        font-weight: 600;\n        letter-spacing: -1px;\n        text-shadow:\n            0 0 4px black,\n            -1px 1px 0 #76777a,\n            1px 1px 0 #76777a,\n            1px -1px 0 #76777a,\n            -1px -1px 0 #76777a;\n    '>Trees</span>",
                    "<span style='\n        color: #fff;\n        font-weight: 600;\n        letter-spacing: -1px;\n        text-shadow:\n            0 0 4px black,\n            -1px 1px 0 #76777a,\n            1px 1px 0 #76777a,\n            1px -1px 0 #76777a,\n            -1px -1px 0 #76777a;\n    '>Grass/Forb/Herb</span>",
                    "<span style='\n        color: #fff;\n        font-weight: 600;\n        letter-spacing: -1px;\n        text-shadow:\n            0 0 4px black,\n            -1px 1px 0 #76777a,\n            1px 1px 0 #76777a,\n            1px -1px 0 #76777a,\n            -1px -1px 0 #76777a;\n    '>Barren or Impervious</span>",
                    "<span style='\n        color: #fff;\n        font-weight: 600;\n        letter-spacing: -1px;\n        text-shadow:\n            0 0 4px black,\n            -1px 1px 0 #76777a,\n            1px 1px 0 #76777a,\n            1px -1px 0 #76777a,\n            -1px -1px 0 #76777a;\n    '>Trees</span>",
                    "<span style='\n        color: #fff;\n        font-weight: 600;\n        letter-spacing: -1px;\n        text-shadow:\n            0 0 4px black,\n            -1px 1px 0 #76777a,\n            1px 1px 0 #76777a,\n            1px -1px 0 #76777a,\n            -1px -1px 0 #76777a;\n    '>Grass/Forb/Herb</span>",
                    "<span style='\n        color: #fff;\n        font-weight: 600;\n        letter-spacing: -1px;\n        text-shadow:\n            0 0 4px black,\n            -1px 1px 0 #76777a,\n            1px 1px 0 #76777a,\n            1px -1px 0 #76777a,\n            -1px -1px 0 #76777a;\n    '>Barren or Impervious</span>"
                  ],
                  "line": {
                    "color": "#505050",
                    "width": 1.5
                  },
                  "pad": 30,
                  "thickness": 10
                },
                "type": "sankey",
                "uid": "cded2096-f338-457f-851f-915fe4e7af02"
              }
            ],
            "_dom_classes": [],
            "_js2py_layoutDelta": null,
            "_js2py_pointsCallback": null,
            "_js2py_relayout": null,
            "_js2py_restyle": {},
            "_js2py_traceDeltas": null,
            "_js2py_update": {},
            "_last_layout_edit_id": 14,
            "_last_trace_edit_id": 13,
            "_layout": {},
            "_model_module": "jupyterlab-plotly",
            "_model_module_version": "^5.15.0",
            "_model_name": "FigureModel",
            "_py2js_addTraces": {},
            "_py2js_animate": {},
            "_py2js_deleteTraces": {},
            "_py2js_moveTraces": {},
            "_py2js_relayout": null,
            "_py2js_removeLayoutProps": null,
            "_py2js_removeTraceProps": {},
            "_py2js_restyle": null,
            "_py2js_update": null,
            "_view_count": 1,
            "_view_module": "jupyterlab-plotly",
            "_view_module_version": "^5.15.0",
            "_view_name": "FigureView"
          }
        },
        "10988636e3d845b9aa4399e174a8ebc7": {
          "model_module": "@jupyter-widgets/controls",
          "model_name": "VBoxModel",
          "model_module_version": "1.5.0",
          "state": {
            "_dom_classes": [],
            "_model_module": "@jupyter-widgets/controls",
            "_model_module_version": "1.5.0",
            "_model_name": "VBoxModel",
            "_view_count": null,
            "_view_module": "@jupyter-widgets/controls",
            "_view_module_version": "1.5.0",
            "_view_name": "VBoxView",
            "box_style": "",
            "children": [
              "IPY_MODEL_b0bbc57af718497ebedf49bb60c16d29"
            ],
            "layout": "IPY_MODEL_78524bc017924949a1e46c655ba45fa8"
          }
        },
        "24b4a7d6d382465fa93c61d29b0bd689": {
          "model_module": "@jupyter-widgets/base",
          "model_name": "LayoutModel",
          "model_module_version": "1.2.0",
          "state": {
            "_model_module": "@jupyter-widgets/base",
            "_model_module_version": "1.2.0",
            "_model_name": "LayoutModel",
            "_view_count": null,
            "_view_module": "@jupyter-widgets/base",
            "_view_module_version": "1.2.0",
            "_view_name": "LayoutView",
            "align_content": null,
            "align_items": null,
            "align_self": null,
            "border": null,
            "bottom": null,
            "display": null,
            "flex": null,
            "flex_flow": null,
            "grid_area": null,
            "grid_auto_columns": null,
            "grid_auto_flow": null,
            "grid_auto_rows": null,
            "grid_column": null,
            "grid_gap": null,
            "grid_row": null,
            "grid_template_areas": null,
            "grid_template_columns": null,
            "grid_template_rows": null,
            "height": null,
            "justify_content": null,
            "justify_items": null,
            "left": null,
            "margin": null,
            "max_height": null,
            "max_width": null,
            "min_height": null,
            "min_width": null,
            "object_fit": null,
            "object_position": null,
            "order": null,
            "overflow": null,
            "overflow_x": null,
            "overflow_y": null,
            "padding": null,
            "right": null,
            "top": null,
            "visibility": null,
            "width": null
          }
        },
        "b0bbc57af718497ebedf49bb60c16d29": {
          "model_module": "@jupyter-widgets/controls",
          "model_name": "HBoxModel",
          "model_module_version": "1.5.0",
          "state": {
            "_dom_classes": [],
            "_model_module": "@jupyter-widgets/controls",
            "_model_module_version": "1.5.0",
            "_model_name": "HBoxModel",
            "_view_count": null,
            "_view_module": "@jupyter-widgets/controls",
            "_view_module_version": "1.5.0",
            "_view_name": "HBoxView",
            "box_style": "",
            "children": [
              "IPY_MODEL_916a178d8ae340a5b78aaf1b15379d1b",
              "IPY_MODEL_f8feb70852ff4a2d95d2b174b304d240",
              "IPY_MODEL_049963bf2a5546abb0b01ac53f0f2e09",
              "IPY_MODEL_4ec6e2e61fe84813b742cd03fa49c78a",
              "IPY_MODEL_4d32e88754bd4154b851e0e2f57d1149",
              "IPY_MODEL_f8c37f0dca4645eb934e32a34dfef646"
            ],
            "layout": "IPY_MODEL_67ee28c722ea4519bf117693f9495a63"
          }
        },
        "78524bc017924949a1e46c655ba45fa8": {
          "model_module": "@jupyter-widgets/base",
          "model_name": "LayoutModel",
          "model_module_version": "1.2.0",
          "state": {
            "_model_module": "@jupyter-widgets/base",
            "_model_module_version": "1.2.0",
            "_model_name": "LayoutModel",
            "_view_count": null,
            "_view_module": "@jupyter-widgets/base",
            "_view_module_version": "1.2.0",
            "_view_name": "LayoutView",
            "align_content": null,
            "align_items": "center",
            "align_self": null,
            "border": null,
            "bottom": null,
            "display": null,
            "flex": null,
            "flex_flow": null,
            "grid_area": null,
            "grid_auto_columns": null,
            "grid_auto_flow": null,
            "grid_auto_rows": null,
            "grid_column": null,
            "grid_gap": null,
            "grid_row": null,
            "grid_template_areas": null,
            "grid_template_columns": null,
            "grid_template_rows": null,
            "height": null,
            "justify_content": null,
            "justify_items": null,
            "left": null,
            "margin": null,
            "max_height": null,
            "max_width": null,
            "min_height": null,
            "min_width": null,
            "object_fit": null,
            "object_position": null,
            "order": null,
            "overflow": null,
            "overflow_x": null,
            "overflow_y": null,
            "padding": null,
            "right": null,
            "top": null,
            "visibility": null,
            "width": null
          }
        },
        "916a178d8ae340a5b78aaf1b15379d1b": {
          "model_module": "@jupyter-widgets/controls",
          "model_name": "ButtonModel",
          "model_module_version": "1.5.0",
          "state": {
            "_dom_classes": [],
            "_model_module": "@jupyter-widgets/controls",
            "_model_module_version": "1.5.0",
            "_model_name": "ButtonModel",
            "_view_count": null,
            "_view_module": "@jupyter-widgets/controls",
            "_view_module_version": "1.5.0",
            "_view_name": "ButtonView",
            "button_style": "",
            "description": "",
            "disabled": false,
            "icon": "",
            "layout": "IPY_MODEL_37c4228b59f74b1a9928f8c16525a67b",
            "style": "IPY_MODEL_450bdc8e53224d7ab3ff396e2cbc9519",
            "tooltip": "Barren or Impervious"
          }
        },
        "f8feb70852ff4a2d95d2b174b304d240": {
          "model_module": "@jupyter-widgets/controls",
          "model_name": "ButtonModel",
          "model_module_version": "1.5.0",
          "state": {
            "_dom_classes": [],
            "_model_module": "@jupyter-widgets/controls",
            "_model_module_version": "1.5.0",
            "_model_name": "ButtonModel",
            "_view_count": null,
            "_view_module": "@jupyter-widgets/controls",
            "_view_module_version": "1.5.0",
            "_view_name": "ButtonView",
            "button_style": "",
            "description": "",
            "disabled": false,
            "icon": "",
            "layout": "IPY_MODEL_8018beede365452eacf3e41beb241b60",
            "style": "IPY_MODEL_fb39f3a905aa4b2e8e5fa8b67ab8666a",
            "tooltip": "Grass/Forb/Herb"
          }
        },
        "049963bf2a5546abb0b01ac53f0f2e09": {
          "model_module": "@jupyter-widgets/controls",
          "model_name": "ButtonModel",
          "model_module_version": "1.5.0",
          "state": {
            "_dom_classes": [],
            "_model_module": "@jupyter-widgets/controls",
            "_model_module_version": "1.5.0",
            "_model_name": "ButtonModel",
            "_view_count": null,
            "_view_module": "@jupyter-widgets/controls",
            "_view_module_version": "1.5.0",
            "_view_name": "ButtonView",
            "button_style": "",
            "description": "",
            "disabled": false,
            "icon": "",
            "layout": "IPY_MODEL_c0958fdd8ee942b49cf02f7de1d3a64f",
            "style": "IPY_MODEL_7e61259fdb59409180efda5e5baf43a5",
            "tooltip": "Trees"
          }
        },
        "4ec6e2e61fe84813b742cd03fa49c78a": {
          "model_module": "@jupyter-widgets/controls",
          "model_name": "LabelModel",
          "model_module_version": "1.5.0",
          "state": {
            "_dom_classes": [],
            "_model_module": "@jupyter-widgets/controls",
            "_model_module_version": "1.5.0",
            "_model_name": "LabelModel",
            "_view_count": null,
            "_view_module": "@jupyter-widgets/controls",
            "_view_module_version": "1.5.0",
            "_view_name": "LabelView",
            "description": "",
            "description_tooltip": null,
            "layout": "IPY_MODEL_5b83639cb9ba4bd6ab61dd1b2a98a4eb",
            "placeholder": "​",
            "style": "IPY_MODEL_78c25e5092b549b69eb1064b4e30f007",
            "value": "|"
          }
        },
        "4d32e88754bd4154b851e0e2f57d1149": {
          "model_module": "@jupyter-widgets/controls",
          "model_name": "ButtonModel",
          "model_module_version": "1.5.0",
          "state": {
            "_dom_classes": [],
            "_model_module": "@jupyter-widgets/controls",
            "_model_module_version": "1.5.0",
            "_model_name": "ButtonModel",
            "_view_count": null,
            "_view_module": "@jupyter-widgets/controls",
            "_view_module_version": "1.5.0",
            "_view_name": "ButtonView",
            "button_style": "",
            "description": "",
            "disabled": false,
            "icon": "refresh",
            "layout": "IPY_MODEL_77d7a2c09d3845958b018ff0fe70e926",
            "style": "IPY_MODEL_f48902bcc8104609b46ed6f0a63932e0",
            "tooltip": "Reset plot"
          }
        },
        "f8c37f0dca4645eb934e32a34dfef646": {
          "model_module": "@jupyter-widgets/controls",
          "model_name": "ButtonModel",
          "model_module_version": "1.5.0",
          "state": {
            "_dom_classes": [],
            "_model_module": "@jupyter-widgets/controls",
            "_model_module_version": "1.5.0",
            "_model_name": "ButtonModel",
            "_view_count": null,
            "_view_module": "@jupyter-widgets/controls",
            "_view_module_version": "1.5.0",
            "_view_name": "ButtonView",
            "button_style": "",
            "description": "",
            "disabled": false,
            "icon": "external-link",
            "layout": "IPY_MODEL_caed27f704db4040a3f275b5b204bbc7",
            "style": "IPY_MODEL_83674c8b40d94d508be28c8af0370b28",
            "tooltip": "Open in new tab"
          }
        },
        "67ee28c722ea4519bf117693f9495a63": {
          "model_module": "@jupyter-widgets/base",
          "model_name": "LayoutModel",
          "model_module_version": "1.2.0",
          "state": {
            "_model_module": "@jupyter-widgets/base",
            "_model_module_version": "1.2.0",
            "_model_name": "LayoutModel",
            "_view_count": null,
            "_view_module": "@jupyter-widgets/base",
            "_view_module_version": "1.2.0",
            "_view_name": "LayoutView",
            "align_content": null,
            "align_items": null,
            "align_self": null,
            "border": null,
            "bottom": null,
            "display": null,
            "flex": null,
            "flex_flow": null,
            "grid_area": null,
            "grid_auto_columns": null,
            "grid_auto_flow": null,
            "grid_auto_rows": null,
            "grid_column": null,
            "grid_gap": null,
            "grid_row": null,
            "grid_template_areas": null,
            "grid_template_columns": null,
            "grid_template_rows": null,
            "height": null,
            "justify_content": null,
            "justify_items": null,
            "left": null,
            "margin": null,
            "max_height": null,
            "max_width": null,
            "min_height": null,
            "min_width": null,
            "object_fit": null,
            "object_position": null,
            "order": null,
            "overflow": null,
            "overflow_x": null,
            "overflow_y": null,
            "padding": null,
            "right": null,
            "top": null,
            "visibility": null,
            "width": null
          }
        },
        "37c4228b59f74b1a9928f8c16525a67b": {
          "model_module": "@jupyter-widgets/base",
          "model_name": "LayoutModel",
          "model_module_version": "1.2.0",
          "state": {
            "_model_module": "@jupyter-widgets/base",
            "_model_module_version": "1.2.0",
            "_model_name": "LayoutModel",
            "_view_count": null,
            "_view_module": "@jupyter-widgets/base",
            "_view_module_version": "1.2.0",
            "_view_name": "LayoutView",
            "align_content": null,
            "align_items": null,
            "align_self": null,
            "border": "1px dashed #d3bf9b",
            "bottom": null,
            "display": null,
            "flex": null,
            "flex_flow": null,
            "grid_area": null,
            "grid_auto_columns": null,
            "grid_auto_flow": null,
            "grid_auto_rows": null,
            "grid_column": null,
            "grid_gap": null,
            "grid_row": null,
            "grid_template_areas": null,
            "grid_template_columns": null,
            "grid_template_rows": null,
            "height": "24px",
            "justify_content": null,
            "justify_items": null,
            "left": null,
            "margin": null,
            "max_height": null,
            "max_width": null,
            "min_height": null,
            "min_width": null,
            "object_fit": null,
            "object_position": null,
            "order": null,
            "overflow": null,
            "overflow_x": null,
            "overflow_y": null,
            "padding": null,
            "right": null,
            "top": null,
            "visibility": null,
            "width": "24px"
          }
        },
        "450bdc8e53224d7ab3ff396e2cbc9519": {
          "model_module": "@jupyter-widgets/controls",
          "model_name": "ButtonStyleModel",
          "model_module_version": "1.5.0",
          "state": {
            "_model_module": "@jupyter-widgets/controls",
            "_model_module_version": "1.5.0",
            "_model_name": "ButtonStyleModel",
            "_view_count": null,
            "_view_module": "@jupyter-widgets/base",
            "_view_module_version": "1.2.0",
            "_view_name": "StyleView",
            "button_color": "#d3bf9b",
            "font_weight": ""
          }
        },
        "8018beede365452eacf3e41beb241b60": {
          "model_module": "@jupyter-widgets/base",
          "model_name": "LayoutModel",
          "model_module_version": "1.2.0",
          "state": {
            "_model_module": "@jupyter-widgets/base",
            "_model_module_version": "1.2.0",
            "_model_name": "LayoutModel",
            "_view_count": null,
            "_view_module": "@jupyter-widgets/base",
            "_view_module_version": "1.2.0",
            "_view_name": "LayoutView",
            "align_content": null,
            "align_items": null,
            "align_self": null,
            "border": "1px dashed #ffff00",
            "bottom": null,
            "display": null,
            "flex": null,
            "flex_flow": null,
            "grid_area": null,
            "grid_auto_columns": null,
            "grid_auto_flow": null,
            "grid_auto_rows": null,
            "grid_column": null,
            "grid_gap": null,
            "grid_row": null,
            "grid_template_areas": null,
            "grid_template_columns": null,
            "grid_template_rows": null,
            "height": "24px",
            "justify_content": null,
            "justify_items": null,
            "left": null,
            "margin": null,
            "max_height": null,
            "max_width": null,
            "min_height": null,
            "min_width": null,
            "object_fit": null,
            "object_position": null,
            "order": null,
            "overflow": null,
            "overflow_x": null,
            "overflow_y": null,
            "padding": null,
            "right": null,
            "top": null,
            "visibility": null,
            "width": "24px"
          }
        },
        "fb39f3a905aa4b2e8e5fa8b67ab8666a": {
          "model_module": "@jupyter-widgets/controls",
          "model_name": "ButtonStyleModel",
          "model_module_version": "1.5.0",
          "state": {
            "_model_module": "@jupyter-widgets/controls",
            "_model_module_version": "1.5.0",
            "_model_name": "ButtonStyleModel",
            "_view_count": null,
            "_view_module": "@jupyter-widgets/base",
            "_view_module_version": "1.2.0",
            "_view_name": "StyleView",
            "button_color": "#ffff00",
            "font_weight": ""
          }
        },
        "c0958fdd8ee942b49cf02f7de1d3a64f": {
          "model_module": "@jupyter-widgets/base",
          "model_name": "LayoutModel",
          "model_module_version": "1.2.0",
          "state": {
            "_model_module": "@jupyter-widgets/base",
            "_model_module_version": "1.2.0",
            "_model_name": "LayoutModel",
            "_view_count": null,
            "_view_module": "@jupyter-widgets/base",
            "_view_module_version": "1.2.0",
            "_view_name": "LayoutView",
            "align_content": null,
            "align_items": null,
            "align_self": null,
            "border": "1px dashed #005e00",
            "bottom": null,
            "display": null,
            "flex": null,
            "flex_flow": null,
            "grid_area": null,
            "grid_auto_columns": null,
            "grid_auto_flow": null,
            "grid_auto_rows": null,
            "grid_column": null,
            "grid_gap": null,
            "grid_row": null,
            "grid_template_areas": null,
            "grid_template_columns": null,
            "grid_template_rows": null,
            "height": "24px",
            "justify_content": null,
            "justify_items": null,
            "left": null,
            "margin": null,
            "max_height": null,
            "max_width": null,
            "min_height": null,
            "min_width": null,
            "object_fit": null,
            "object_position": null,
            "order": null,
            "overflow": null,
            "overflow_x": null,
            "overflow_y": null,
            "padding": null,
            "right": null,
            "top": null,
            "visibility": null,
            "width": "24px"
          }
        },
        "7e61259fdb59409180efda5e5baf43a5": {
          "model_module": "@jupyter-widgets/controls",
          "model_name": "ButtonStyleModel",
          "model_module_version": "1.5.0",
          "state": {
            "_model_module": "@jupyter-widgets/controls",
            "_model_module_version": "1.5.0",
            "_model_name": "ButtonStyleModel",
            "_view_count": null,
            "_view_module": "@jupyter-widgets/base",
            "_view_module_version": "1.2.0",
            "_view_name": "StyleView",
            "button_color": "#005e00",
            "font_weight": ""
          }
        },
        "5b83639cb9ba4bd6ab61dd1b2a98a4eb": {
          "model_module": "@jupyter-widgets/base",
          "model_name": "LayoutModel",
          "model_module_version": "1.2.0",
          "state": {
            "_model_module": "@jupyter-widgets/base",
            "_model_module_version": "1.2.0",
            "_model_name": "LayoutModel",
            "_view_count": null,
            "_view_module": "@jupyter-widgets/base",
            "_view_module_version": "1.2.0",
            "_view_name": "LayoutView",
            "align_content": null,
            "align_items": null,
            "align_self": null,
            "border": null,
            "bottom": null,
            "display": null,
            "flex": null,
            "flex_flow": null,
            "grid_area": null,
            "grid_auto_columns": null,
            "grid_auto_flow": null,
            "grid_auto_rows": null,
            "grid_column": null,
            "grid_gap": null,
            "grid_row": null,
            "grid_template_areas": null,
            "grid_template_columns": null,
            "grid_template_rows": null,
            "height": null,
            "justify_content": null,
            "justify_items": null,
            "left": null,
            "margin": null,
            "max_height": null,
            "max_width": null,
            "min_height": null,
            "min_width": null,
            "object_fit": null,
            "object_position": null,
            "order": null,
            "overflow": null,
            "overflow_x": null,
            "overflow_y": null,
            "padding": null,
            "right": null,
            "top": null,
            "visibility": null,
            "width": null
          }
        },
        "78c25e5092b549b69eb1064b4e30f007": {
          "model_module": "@jupyter-widgets/controls",
          "model_name": "DescriptionStyleModel",
          "model_module_version": "1.5.0",
          "state": {
            "_model_module": "@jupyter-widgets/controls",
            "_model_module_version": "1.5.0",
            "_model_name": "DescriptionStyleModel",
            "_view_count": null,
            "_view_module": "@jupyter-widgets/base",
            "_view_module_version": "1.2.0",
            "_view_name": "StyleView",
            "description_width": ""
          }
        },
        "77d7a2c09d3845958b018ff0fe70e926": {
          "model_module": "@jupyter-widgets/base",
          "model_name": "LayoutModel",
          "model_module_version": "1.2.0",
          "state": {
            "_model_module": "@jupyter-widgets/base",
            "_model_module_version": "1.2.0",
            "_model_name": "LayoutModel",
            "_view_count": null,
            "_view_module": "@jupyter-widgets/base",
            "_view_module_version": "1.2.0",
            "_view_name": "LayoutView",
            "align_content": null,
            "align_items": null,
            "align_self": null,
            "border": null,
            "bottom": null,
            "display": null,
            "flex": null,
            "flex_flow": null,
            "grid_area": null,
            "grid_auto_columns": null,
            "grid_auto_flow": null,
            "grid_auto_rows": null,
            "grid_column": null,
            "grid_gap": null,
            "grid_row": null,
            "grid_template_areas": null,
            "grid_template_columns": null,
            "grid_template_rows": null,
            "height": "24px",
            "justify_content": null,
            "justify_items": null,
            "left": null,
            "margin": null,
            "max_height": null,
            "max_width": null,
            "min_height": null,
            "min_width": null,
            "object_fit": null,
            "object_position": null,
            "order": null,
            "overflow": null,
            "overflow_x": null,
            "overflow_y": null,
            "padding": "0 0 0 3px",
            "right": null,
            "top": null,
            "visibility": null,
            "width": "24px"
          }
        },
        "f48902bcc8104609b46ed6f0a63932e0": {
          "model_module": "@jupyter-widgets/controls",
          "model_name": "ButtonStyleModel",
          "model_module_version": "1.5.0",
          "state": {
            "_model_module": "@jupyter-widgets/controls",
            "_model_module_version": "1.5.0",
            "_model_name": "ButtonStyleModel",
            "_view_count": null,
            "_view_module": "@jupyter-widgets/base",
            "_view_module_version": "1.2.0",
            "_view_name": "StyleView",
            "button_color": null,
            "font_weight": ""
          }
        },
        "caed27f704db4040a3f275b5b204bbc7": {
          "model_module": "@jupyter-widgets/base",
          "model_name": "LayoutModel",
          "model_module_version": "1.2.0",
          "state": {
            "_model_module": "@jupyter-widgets/base",
            "_model_module_version": "1.2.0",
            "_model_name": "LayoutModel",
            "_view_count": null,
            "_view_module": "@jupyter-widgets/base",
            "_view_module_version": "1.2.0",
            "_view_name": "LayoutView",
            "align_content": null,
            "align_items": null,
            "align_self": null,
            "border": null,
            "bottom": null,
            "display": null,
            "flex": null,
            "flex_flow": null,
            "grid_area": null,
            "grid_auto_columns": null,
            "grid_auto_flow": null,
            "grid_auto_rows": null,
            "grid_column": null,
            "grid_gap": null,
            "grid_row": null,
            "grid_template_areas": null,
            "grid_template_columns": null,
            "grid_template_rows": null,
            "height": "24px",
            "justify_content": null,
            "justify_items": null,
            "left": null,
            "margin": null,
            "max_height": null,
            "max_width": null,
            "min_height": null,
            "min_width": null,
            "object_fit": null,
            "object_position": null,
            "order": null,
            "overflow": null,
            "overflow_x": null,
            "overflow_y": null,
            "padding": "0 0 0 3px",
            "right": null,
            "top": null,
            "visibility": null,
            "width": "24px"
          }
        },
        "83674c8b40d94d508be28c8af0370b28": {
          "model_module": "@jupyter-widgets/controls",
          "model_name": "ButtonStyleModel",
          "model_module_version": "1.5.0",
          "state": {
            "_model_module": "@jupyter-widgets/controls",
            "_model_module_version": "1.5.0",
            "_model_name": "ButtonStyleModel",
            "_view_count": null,
            "_view_module": "@jupyter-widgets/base",
            "_view_module_version": "1.2.0",
            "_view_name": "StyleView",
            "button_color": null,
            "font_weight": ""
          }
        }
      }
    }
  },
  "cells": [
    {
      "cell_type": "markdown",
      "metadata": {
        "id": "view-in-github",
        "colab_type": "text"
      },
      "source": [
        "<a href=\"https://colab.research.google.com/github/xiashenzhen/geemap/blob/main/%E8%AE%AD%E7%BB%83%E6%9C%AC%E5%9C%B0%E6%A8%A1%E5%9E%8B.ipynb\" target=\"_parent\"><img src=\"https://colab.research.google.com/assets/colab-badge.svg\" alt=\"Open In Colab\"/></a>"
      ]
    },
    {
      "cell_type": "markdown",
      "source": [
        "使用本地训练的模型在GEE分类"
      ],
      "metadata": {
        "id": "dC6HNz_t6lYG"
      }
    },
    {
      "cell_type": "code",
      "source": [
        "import ee\n",
        "import geemap\n",
        "ee.Authenticate()\n",
        "ee.Initialize(project='ee-jason2024')\n",
        "geemap.ee_initialize()"
      ],
      "metadata": {
        "colab": {
          "base_uri": "https://localhost:8080/",
          "height": 17
        },
        "id": "lKmfot6Y6w5o",
        "outputId": "1e879988-884d-4f43-eaa0-3b721031b428"
      },
      "execution_count": 20,
      "outputs": [
        {
          "output_type": "display_data",
          "data": {
            "text/plain": [
              "<IPython.core.display.HTML object>"
            ],
            "text/html": [
              "\n",
              "            <style>\n",
              "                .geemap-dark {\n",
              "                    --jp-widgets-color: white;\n",
              "                    --jp-widgets-label-color: white;\n",
              "                    --jp-ui-font-color1: white;\n",
              "                    --jp-layout-color2: #454545;\n",
              "                    background-color: #383838;\n",
              "                }\n",
              "\n",
              "                .geemap-dark .jupyter-button {\n",
              "                    --jp-layout-color3: #383838;\n",
              "                }\n",
              "\n",
              "                .geemap-colab {\n",
              "                    background-color: var(--colab-primary-surface-color, white);\n",
              "                }\n",
              "\n",
              "                .geemap-colab .jupyter-button {\n",
              "                    --jp-layout-color3: var(--colab-primary-surface-color, white);\n",
              "                }\n",
              "            </style>\n",
              "            "
            ]
          },
          "metadata": {}
        }
      ]
    },
    {
      "cell_type": "code",
      "execution_count": 4,
      "metadata": {
        "colab": {
          "base_uri": "https://localhost:8080/",
          "height": 17
        },
        "id": "3QNEqqn16cJ5",
        "outputId": "a0f32fa4-b45a-48da-9c98-f9ec9397c382"
      },
      "outputs": [
        {
          "output_type": "display_data",
          "data": {
            "text/plain": [
              "<IPython.core.display.HTML object>"
            ],
            "text/html": [
              "\n",
              "            <style>\n",
              "                .geemap-dark {\n",
              "                    --jp-widgets-color: white;\n",
              "                    --jp-widgets-label-color: white;\n",
              "                    --jp-ui-font-color1: white;\n",
              "                    --jp-layout-color2: #454545;\n",
              "                    background-color: #383838;\n",
              "                }\n",
              "\n",
              "                .geemap-dark .jupyter-button {\n",
              "                    --jp-layout-color3: #383838;\n",
              "                }\n",
              "\n",
              "                .geemap-colab {\n",
              "                    background-color: var(--colab-primary-surface-color, white);\n",
              "                }\n",
              "\n",
              "                .geemap-colab .jupyter-button {\n",
              "                    --jp-layout-color3: var(--colab-primary-surface-color, white);\n",
              "                }\n",
              "            </style>\n",
              "            "
            ]
          },
          "metadata": {}
        }
      ],
      "source": [
        "import pandas as pd\n",
        "from geemap import ml\n",
        "from sklearn import ensemble"
      ]
    },
    {
      "cell_type": "code",
      "source": [
        "url = \"https://raw.githubusercontent.com/gee-community/geemap/master/examples/data/rf_example.csv\"\n",
        "df = pd.read_csv(url)\n",
        "df"
      ],
      "metadata": {
        "id": "8dpgMRsr6_2X"
      },
      "execution_count": null,
      "outputs": []
    },
    {
      "cell_type": "code",
      "source": [
        "feature_names = ['B2', 'B3', 'B4', 'B5', 'B6', 'B7']\n",
        "label = \"landcover\""
      ],
      "metadata": {
        "colab": {
          "base_uri": "https://localhost:8080/",
          "height": 17
        },
        "id": "aXURBqZ77Gjx",
        "outputId": "c2139756-d0c0-49c7-a2a5-4a7d43c750b5"
      },
      "execution_count": 6,
      "outputs": [
        {
          "output_type": "display_data",
          "data": {
            "text/plain": [
              "<IPython.core.display.HTML object>"
            ],
            "text/html": [
              "\n",
              "            <style>\n",
              "                .geemap-dark {\n",
              "                    --jp-widgets-color: white;\n",
              "                    --jp-widgets-label-color: white;\n",
              "                    --jp-ui-font-color1: white;\n",
              "                    --jp-layout-color2: #454545;\n",
              "                    background-color: #383838;\n",
              "                }\n",
              "\n",
              "                .geemap-dark .jupyter-button {\n",
              "                    --jp-layout-color3: #383838;\n",
              "                }\n",
              "\n",
              "                .geemap-colab {\n",
              "                    background-color: var(--colab-primary-surface-color, white);\n",
              "                }\n",
              "\n",
              "                .geemap-colab .jupyter-button {\n",
              "                    --jp-layout-color3: var(--colab-primary-surface-color, white);\n",
              "                }\n",
              "            </style>\n",
              "            "
            ]
          },
          "metadata": {}
        }
      ]
    },
    {
      "cell_type": "code",
      "source": [
        "X = df[feature_names]\n",
        "y = df[label]\n",
        "n_trees = 10\n",
        "rf = ensemble.RandomForestClassifier(n_trees).fit(X, y)"
      ],
      "metadata": {
        "colab": {
          "base_uri": "https://localhost:8080/",
          "height": 17
        },
        "id": "1rAzOMK87TQV",
        "outputId": "f62006aa-d422-421b-efad-94ea696015d3"
      },
      "execution_count": 7,
      "outputs": [
        {
          "output_type": "display_data",
          "data": {
            "text/plain": [
              "<IPython.core.display.HTML object>"
            ],
            "text/html": [
              "\n",
              "            <style>\n",
              "                .geemap-dark {\n",
              "                    --jp-widgets-color: white;\n",
              "                    --jp-widgets-label-color: white;\n",
              "                    --jp-ui-font-color1: white;\n",
              "                    --jp-layout-color2: #454545;\n",
              "                    background-color: #383838;\n",
              "                }\n",
              "\n",
              "                .geemap-dark .jupyter-button {\n",
              "                    --jp-layout-color3: #383838;\n",
              "                }\n",
              "\n",
              "                .geemap-colab {\n",
              "                    background-color: var(--colab-primary-surface-color, white);\n",
              "                }\n",
              "\n",
              "                .geemap-colab .jupyter-button {\n",
              "                    --jp-layout-color3: var(--colab-primary-surface-color, white);\n",
              "                }\n",
              "            </style>\n",
              "            "
            ]
          },
          "metadata": {}
        }
      ]
    },
    {
      "cell_type": "code",
      "source": [
        "trees = ml.rf_to_strings(rf, feature_names)"
      ],
      "metadata": {
        "colab": {
          "base_uri": "https://localhost:8080/",
          "height": 17
        },
        "id": "xmESpIzA7mlh",
        "outputId": "7548882a-ff17-4d9e-fe63-ffe0df783ecb"
      },
      "execution_count": 8,
      "outputs": [
        {
          "output_type": "display_data",
          "data": {
            "text/plain": [
              "<IPython.core.display.HTML object>"
            ],
            "text/html": [
              "\n",
              "            <style>\n",
              "                .geemap-dark {\n",
              "                    --jp-widgets-color: white;\n",
              "                    --jp-widgets-label-color: white;\n",
              "                    --jp-ui-font-color1: white;\n",
              "                    --jp-layout-color2: #454545;\n",
              "                    background-color: #383838;\n",
              "                }\n",
              "\n",
              "                .geemap-dark .jupyter-button {\n",
              "                    --jp-layout-color3: #383838;\n",
              "                }\n",
              "\n",
              "                .geemap-colab {\n",
              "                    background-color: var(--colab-primary-surface-color, white);\n",
              "                }\n",
              "\n",
              "                .geemap-colab .jupyter-button {\n",
              "                    --jp-layout-color3: var(--colab-primary-surface-color, white);\n",
              "                }\n",
              "            </style>\n",
              "            "
            ]
          },
          "metadata": {}
        }
      ]
    },
    {
      "cell_type": "code",
      "source": [
        "print(len(trees))"
      ],
      "metadata": {
        "colab": {
          "base_uri": "https://localhost:8080/",
          "height": 35
        },
        "id": "qbOxhcv37oQ1",
        "outputId": "735b1c83-1cb4-423f-99f3-665ab78ca91c"
      },
      "execution_count": 9,
      "outputs": [
        {
          "output_type": "display_data",
          "data": {
            "text/plain": [
              "<IPython.core.display.HTML object>"
            ],
            "text/html": [
              "\n",
              "            <style>\n",
              "                .geemap-dark {\n",
              "                    --jp-widgets-color: white;\n",
              "                    --jp-widgets-label-color: white;\n",
              "                    --jp-ui-font-color1: white;\n",
              "                    --jp-layout-color2: #454545;\n",
              "                    background-color: #383838;\n",
              "                }\n",
              "\n",
              "                .geemap-dark .jupyter-button {\n",
              "                    --jp-layout-color3: #383838;\n",
              "                }\n",
              "\n",
              "                .geemap-colab {\n",
              "                    background-color: var(--colab-primary-surface-color, white);\n",
              "                }\n",
              "\n",
              "                .geemap-colab .jupyter-button {\n",
              "                    --jp-layout-color3: var(--colab-primary-surface-color, white);\n",
              "                }\n",
              "            </style>\n",
              "            "
            ]
          },
          "metadata": {}
        },
        {
          "output_type": "stream",
          "name": "stdout",
          "text": [
            "10\n"
          ]
        }
      ]
    },
    {
      "cell_type": "code",
      "source": [
        "print(trees[0])"
      ],
      "metadata": {
        "id": "qv7IhqGE7sID"
      },
      "execution_count": null,
      "outputs": []
    },
    {
      "cell_type": "code",
      "source": [
        "ee_classifier = ml.strings_to_classifier(trees)\n",
        "ee_classifier.getInfo()"
      ],
      "metadata": {
        "id": "_172KCqF74eA"
      },
      "execution_count": null,
      "outputs": []
    },
    {
      "cell_type": "code",
      "source": [
        "# Make a cloud-free Landsat 8 TOA composite (from raw imagery).\n",
        "l8 = ee.ImageCollection('LANDSAT/LC08/C01/T1')\n",
        "\n",
        "image = ee.Algorithms.Landsat.simpleComposite(\n",
        "    collection=l8.filterDate('2018-01-01', '2018-12-31'), asFloat=True\n",
        ")"
      ],
      "metadata": {
        "colab": {
          "base_uri": "https://localhost:8080/",
          "height": 142
        },
        "id": "3pF_Vd9Q8m9J",
        "outputId": "95107e22-4bda-463a-ecfc-157d1b8725ae"
      },
      "execution_count": 12,
      "outputs": [
        {
          "output_type": "display_data",
          "data": {
            "text/plain": [
              "<IPython.core.display.HTML object>"
            ],
            "text/html": [
              "\n",
              "            <style>\n",
              "                .geemap-dark {\n",
              "                    --jp-widgets-color: white;\n",
              "                    --jp-widgets-label-color: white;\n",
              "                    --jp-ui-font-color1: white;\n",
              "                    --jp-layout-color2: #454545;\n",
              "                    background-color: #383838;\n",
              "                }\n",
              "\n",
              "                .geemap-dark .jupyter-button {\n",
              "                    --jp-layout-color3: #383838;\n",
              "                }\n",
              "\n",
              "                .geemap-colab {\n",
              "                    background-color: var(--colab-primary-surface-color, white);\n",
              "                }\n",
              "\n",
              "                .geemap-colab .jupyter-button {\n",
              "                    --jp-layout-color3: var(--colab-primary-surface-color, white);\n",
              "                }\n",
              "            </style>\n",
              "            "
            ]
          },
          "metadata": {}
        },
        {
          "output_type": "stream",
          "name": "stderr",
          "text": [
            "/usr/local/lib/python3.10/dist-packages/ee/deprecation.py:204: DeprecationWarning: \n",
            "\n",
            "Attention required for LANDSAT/LC08/C01/T1! You are using a deprecated asset.\n",
            "To ensure continued functionality, please update it by July 1, 2024.\n",
            "Learn more: https://developers.google.com/earth-engine/landsat_c1_to_c2\n",
            "\n",
            "  warnings.warn(warning, category=DeprecationWarning)\n"
          ]
        }
      ]
    },
    {
      "cell_type": "code",
      "source": [
        "classified = image.select(feature_names).classify(ee_classifier)"
      ],
      "metadata": {
        "colab": {
          "base_uri": "https://localhost:8080/",
          "height": 17
        },
        "id": "DyUuXSep9Ghe",
        "outputId": "c2acb03b-ffa2-4ae2-a468-4285dab8fb34"
      },
      "execution_count": 13,
      "outputs": [
        {
          "output_type": "display_data",
          "data": {
            "text/plain": [
              "<IPython.core.display.HTML object>"
            ],
            "text/html": [
              "\n",
              "            <style>\n",
              "                .geemap-dark {\n",
              "                    --jp-widgets-color: white;\n",
              "                    --jp-widgets-label-color: white;\n",
              "                    --jp-ui-font-color1: white;\n",
              "                    --jp-layout-color2: #454545;\n",
              "                    background-color: #383838;\n",
              "                }\n",
              "\n",
              "                .geemap-dark .jupyter-button {\n",
              "                    --jp-layout-color3: #383838;\n",
              "                }\n",
              "\n",
              "                .geemap-colab {\n",
              "                    background-color: var(--colab-primary-surface-color, white);\n",
              "                }\n",
              "\n",
              "                .geemap-colab .jupyter-button {\n",
              "                    --jp-layout-color3: var(--colab-primary-surface-color, white);\n",
              "                }\n",
              "            </style>\n",
              "            "
            ]
          },
          "metadata": {}
        }
      ]
    },
    {
      "cell_type": "code",
      "source": [
        "Map = geemap.Map(center=(37.75, -122.25), zoom=11)\n",
        "\n",
        "Map.addLayer(\n",
        "    image,\n",
        "    {\"bands\": ['B7', 'B5', 'B3'], \"min\": 0.05, \"max\": 0.55, \"gamma\": 1.5},\n",
        "    'image',\n",
        ")\n",
        "Map.addLayer(\n",
        "    classified,\n",
        "    {\"min\": 0, \"max\": 2, \"palette\": ['red', 'green', 'blue']},\n",
        "    'classification',\n",
        ")\n",
        "Map"
      ],
      "metadata": {
        "id": "46dAVbBq9RdT"
      },
      "execution_count": null,
      "outputs": []
    },
    {
      "cell_type": "code",
      "source": [
        "# id 不同，目前无法保存到云端\n",
        "# asset_id = \"ee-jason\" + \"/random_forest_strings_test\"\n",
        "# ml.export_trees_to_fc(trees, asset_id)"
      ],
      "metadata": {
        "colab": {
          "base_uri": "https://localhost:8080/",
          "height": 35
        },
        "id": "uXW5q3l0-V1C",
        "outputId": "7b7a873c-2517-425c-bbd7-54f15e5181be"
      },
      "execution_count": 30,
      "outputs": [
        {
          "output_type": "display_data",
          "data": {
            "text/plain": [
              "<IPython.core.display.HTML object>"
            ],
            "text/html": [
              "\n",
              "            <style>\n",
              "                .geemap-dark {\n",
              "                    --jp-widgets-color: white;\n",
              "                    --jp-widgets-label-color: white;\n",
              "                    --jp-ui-font-color1: white;\n",
              "                    --jp-layout-color2: #454545;\n",
              "                    background-color: #383838;\n",
              "                }\n",
              "\n",
              "                .geemap-dark .jupyter-button {\n",
              "                    --jp-layout-color3: #383838;\n",
              "                }\n",
              "\n",
              "                .geemap-colab {\n",
              "                    background-color: var(--colab-primary-surface-color, white);\n",
              "                }\n",
              "\n",
              "                .geemap-colab .jupyter-button {\n",
              "                    --jp-layout-color3: var(--colab-primary-surface-color, white);\n",
              "                }\n",
              "            </style>\n",
              "            "
            ]
          },
          "metadata": {}
        },
        {
          "output_type": "execute_result",
          "data": {
            "text/plain": [
              "'ee-jason/random_forest_strings_test'"
            ],
            "application/vnd.google.colaboratory.intrinsic+json": {
              "type": "string"
            }
          },
          "metadata": {},
          "execution_count": 30
        }
      ]
    },
    {
      "cell_type": "code",
      "source": [
        "out_csv = \"trees.csv\"\n",
        "ml.trees_to_csv(trees, out_csv)\n",
        "another_classifier = ml.csv_to_classifier(out_csv)\n",
        "classified = image.select(feature_names).classify(another_classifier)"
      ],
      "metadata": {
        "colab": {
          "base_uri": "https://localhost:8080/",
          "height": 17
        },
        "id": "K5BoEJpv_bIL",
        "outputId": "e43c8d08-2e95-4cc7-ae4d-c18b4a1f71e0"
      },
      "execution_count": 32,
      "outputs": [
        {
          "output_type": "display_data",
          "data": {
            "text/plain": [
              "<IPython.core.display.HTML object>"
            ],
            "text/html": [
              "\n",
              "            <style>\n",
              "                .geemap-dark {\n",
              "                    --jp-widgets-color: white;\n",
              "                    --jp-widgets-label-color: white;\n",
              "                    --jp-ui-font-color1: white;\n",
              "                    --jp-layout-color2: #454545;\n",
              "                    background-color: #383838;\n",
              "                }\n",
              "\n",
              "                .geemap-dark .jupyter-button {\n",
              "                    --jp-layout-color3: #383838;\n",
              "                }\n",
              "\n",
              "                .geemap-colab {\n",
              "                    background-color: var(--colab-primary-surface-color, white);\n",
              "                }\n",
              "\n",
              "                .geemap-colab .jupyter-button {\n",
              "                    --jp-layout-color3: var(--colab-primary-surface-color, white);\n",
              "                }\n",
              "            </style>\n",
              "            "
            ]
          },
          "metadata": {}
        }
      ]
    },
    {
      "cell_type": "code",
      "source": [
        "! pip install sankee"
      ],
      "metadata": {
        "id": "tH-c_xryDuA1"
      },
      "execution_count": null,
      "outputs": []
    },
    {
      "cell_type": "code",
      "source": [
        "import sankee\n",
        "\n",
        "sankee.datasets.LCMS_LC.sankify(\n",
        "    years=[1990, 2000, 2010, 2020],\n",
        "    region=ee.Geometry.Point([-122.192688, 46.25917]).buffer(2000),\n",
        "    max_classes=3,\n",
        "    title=\"Mount St. Helens Recovery\",\n",
        ")"
      ],
      "metadata": {
        "colab": {
          "base_uri": "https://localhost:8080/",
          "height": 409,
          "referenced_widgets": [
            "cf2cce0313164368a792730bcc002cb8",
            "3c0f551bec9a4b19aacdccf91f11b1a8",
            "10988636e3d845b9aa4399e174a8ebc7",
            "24b4a7d6d382465fa93c61d29b0bd689",
            "b0bbc57af718497ebedf49bb60c16d29",
            "78524bc017924949a1e46c655ba45fa8",
            "916a178d8ae340a5b78aaf1b15379d1b",
            "f8feb70852ff4a2d95d2b174b304d240",
            "049963bf2a5546abb0b01ac53f0f2e09",
            "4ec6e2e61fe84813b742cd03fa49c78a",
            "4d32e88754bd4154b851e0e2f57d1149",
            "f8c37f0dca4645eb934e32a34dfef646",
            "67ee28c722ea4519bf117693f9495a63",
            "37c4228b59f74b1a9928f8c16525a67b",
            "450bdc8e53224d7ab3ff396e2cbc9519",
            "8018beede365452eacf3e41beb241b60",
            "fb39f3a905aa4b2e8e5fa8b67ab8666a",
            "c0958fdd8ee942b49cf02f7de1d3a64f",
            "7e61259fdb59409180efda5e5baf43a5",
            "5b83639cb9ba4bd6ab61dd1b2a98a4eb",
            "78c25e5092b549b69eb1064b4e30f007",
            "77d7a2c09d3845958b018ff0fe70e926",
            "f48902bcc8104609b46ed6f0a63932e0",
            "caed27f704db4040a3f275b5b204bbc7",
            "83674c8b40d94d508be28c8af0370b28"
          ]
        },
        "id": "j7q6SGb3DQXH",
        "outputId": "151cae3a-a006-4fe9-e125-912b4cbb6748"
      },
      "execution_count": 35,
      "outputs": [
        {
          "output_type": "display_data",
          "data": {
            "text/plain": [
              "<IPython.core.display.HTML object>"
            ],
            "text/html": [
              "\n",
              "            <style>\n",
              "                .geemap-dark {\n",
              "                    --jp-widgets-color: white;\n",
              "                    --jp-widgets-label-color: white;\n",
              "                    --jp-ui-font-color1: white;\n",
              "                    --jp-layout-color2: #454545;\n",
              "                    background-color: #383838;\n",
              "                }\n",
              "\n",
              "                .geemap-dark .jupyter-button {\n",
              "                    --jp-layout-color3: #383838;\n",
              "                }\n",
              "\n",
              "                .geemap-colab {\n",
              "                    background-color: var(--colab-primary-surface-color, white);\n",
              "                }\n",
              "\n",
              "                .geemap-colab .jupyter-button {\n",
              "                    --jp-layout-color3: var(--colab-primary-surface-color, white);\n",
              "                }\n",
              "            </style>\n",
              "            "
            ]
          },
          "metadata": {}
        },
        {
          "output_type": "display_data",
          "data": {
            "text/plain": [
              "SankeyPlot()"
            ],
            "application/vnd.jupyter.widget-view+json": {
              "version_major": 2,
              "version_minor": 0,
              "model_id": "cf2cce0313164368a792730bcc002cb8"
            }
          },
          "metadata": {
            "application/vnd.jupyter.widget-view+json": {
              "colab": {
                "custom_widget_manager": {
                  "url": "https://ssl.gstatic.com/colaboratory-static/widgets/colab-cdn-widget-manager/2b70e893a8ba7c0f/manager.min.js"
                }
              }
            }
          }
        }
      ]
    },
    {
      "cell_type": "code",
      "source": [
        "Map = geemap.Map(height=650)\n",
        "Map"
      ],
      "metadata": {
        "id": "ZwlGHjA-EK6A"
      },
      "execution_count": null,
      "outputs": []
    }
  ]
}